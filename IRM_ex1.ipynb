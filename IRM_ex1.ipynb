{
 "cells": [
  {
   "cell_type": "code",
   "execution_count": 1,
   "metadata": {},
   "outputs": [],
   "source": [
    "import numpy as np\n",
    "import pandas as pd\n",
    "import matplotlib.pyplot as plt"
   ]
  },
  {
   "cell_type": "code",
   "execution_count": 165,
   "metadata": {},
   "outputs": [],
   "source": [
    "sigma1 = 10\n",
    "sigma2 = 40\n",
    "n = 2000000\n",
    "x1_e1 = sigma1 * np.random.randn(n,1)\n",
    "y_e1 = x1_e1 + (sigma1 * np.random.rand(n,1))\n",
    "x2_e1 = y_e1 + np.random.randn(n,1)\n",
    "\n",
    "x1_e2 = sigma2 * np.random.randn(n,1)\n",
    "y_e2 = x1_e2 + (sigma2 * np.random.rand(n,1))\n",
    "x2_e2 = y_e2 + np.random.randn(n,1)\n",
    "\n",
    "max_val = max(max(x1_e1), max(y_e1), max(x2_e1), max(x1_e2), max(y_e2), max(x2_e2)) + 1\n",
    "min_val = min(min(x1_e1), min(y_e1), min(x2_e1), min(x1_e2), min(y_e2), min(x2_e2)) - 1"
   ]
  },
  {
   "cell_type": "code",
   "execution_count": 166,
   "metadata": {},
   "outputs": [
    {
     "data": {
      "text/plain": [
       "(array([-193.24486094]), array([240.60712259]))"
      ]
     },
     "execution_count": 166,
     "metadata": {},
     "output_type": "execute_result"
    },
    {
     "data": {
      "image/png": "[encoded data removed]",
      "text/plain": [
       "<Figure size 432x288 with 1 Axes>"
      ]
     },
     "metadata": {
      "needs_background": "light"
     },
     "output_type": "display_data"
    }
   ],
   "source": [
    "plt.scatter(x1_e1,y_e1)\n",
    "plt.xlim(min_val, max_val)\n",
    "plt.ylim(min_val, max_val)"
   ]
  },
  {
   "cell_type": "code",
   "execution_count": 167,
   "metadata": {},
   "outputs": [
    {
     "data": {
      "text/plain": [
       "(array([-193.24486094]), array([240.60712259]))"
      ]
     },
     "execution_count": 167,
     "metadata": {},
     "output_type": "execute_result"
    },
    {
     "data": {
      "image/png": "[encoded data removed]",
      "text/plain": [
       "<Figure size 432x288 with 1 Axes>"
      ]
     },
     "metadata": {
      "needs_background": "light"
     },
     "output_type": "display_data"
    }
   ],
   "source": [
    "plt.scatter(x2_e1,y_e1)\n",
    "plt.xlim(min_val, max_val)\n",
    "plt.ylim(min_val, max_val)"
   ]
  },
  {
   "cell_type": "code",
   "execution_count": 168,
   "metadata": {},
   "outputs": [
    {
     "data": {
      "text/plain": [
       "(array([-193.24486094]), array([240.60712259]))"
      ]
     },
     "execution_count": 168,
     "metadata": {},
     "output_type": "execute_result"
    },
    {
     "data": {
      "image/png": "[encoded data removed]",
      "text/plain": [
       "<Figure size 432x288 with 1 Axes>"
      ]
     },
     "metadata": {
      "needs_background": "light"
     },
     "output_type": "display_data"
    }
   ],
   "source": [
    "plt.scatter(x1_e2,y_e2)\n",
    "plt.xlim(min_val, max_val)\n",
    "plt.ylim(min_val, max_val)"
   ]
  },
  {
   "cell_type": "code",
   "execution_count": 169,
   "metadata": {},
   "outputs": [
    {
     "data": {
      "text/plain": [
       "(array([-193.24486094]), array([240.60712259]))"
      ]
     },
     "execution_count": 169,
     "metadata": {},
     "output_type": "execute_result"
    },
    {
     "data": {
      "image/png": "[encoded data removed]",
      "text/plain": [
       "<Figure size 432x288 with 1 Axes>"
      ]
     },
     "metadata": {
      "needs_background": "light"
     },
     "output_type": "display_data"
    }
   ],
   "source": [
    "plt.scatter(x2_e2,y_e2)\n",
    "plt.xlim(min_val, max_val)\n",
    "plt.ylim(min_val, max_val)"
   ]
  },
  {
   "cell_type": "markdown",
   "metadata": {},
   "source": [
    "## Regressions"
   ]
  },
  {
   "cell_type": "code",
   "execution_count": 170,
   "metadata": {},
   "outputs": [
    {
     "data": {
      "text/plain": [
       "(0.9230837771791828, array([[1.00012592]]))"
      ]
     },
     "execution_count": 170,
     "metadata": {},
     "output_type": "execute_result"
    }
   ],
   "source": [
    "import numpy as np\n",
    "from sklearn.linear_model import LinearRegression\n",
    "regx1_e1 = LinearRegression().fit(x1_e1, y_e1)\n",
    "regx1_e1.score(x1_e1, y_e1), regx1_e1.coef_"
   ]
  },
  {
   "cell_type": "code",
   "execution_count": 171,
   "metadata": {},
   "outputs": [
    {
     "data": {
      "text/plain": [
       "(0.9908721703118689, array([[0.9909013]]))"
      ]
     },
     "execution_count": 171,
     "metadata": {},
     "output_type": "execute_result"
    }
   ],
   "source": [
    "regx2_e1 = LinearRegression().fit(x2_e1, y_e1)\n",
    "regx2_e1.score(x2_e1, y_e1), regx2_e1.coef_"
   ]
  },
  {
   "cell_type": "code",
   "execution_count": 172,
   "metadata": {},
   "outputs": [
    {
     "data": {
      "text/plain": [
       "(0.9917705651627421, array([[0.10682185, 0.89320373]]))"
      ]
     },
     "execution_count": 172,
     "metadata": {},
     "output_type": "execute_result"
    }
   ],
   "source": [
    "x1x2_e1 = np.concatenate((x1_e1,x2_e1), axis=1)\n",
    "regx1x2_e1 = LinearRegression().fit(x1x2_e1, y_e1)\n",
    "regx1x2_e1.score(x1x2_e1, y_e1), regx1x2_e1.coef_"
   ]
  },
  {
   "cell_type": "code",
   "execution_count": 173,
   "metadata": {},
   "outputs": [
    {
     "data": {
      "text/plain": [
       "(0.923157227980598, array([[0.99987819]]))"
      ]
     },
     "execution_count": 173,
     "metadata": {},
     "output_type": "execute_result"
    }
   ],
   "source": [
    "regx1_e2 = LinearRegression().fit(x1_e2, y_e2)\n",
    "regx1_e2.score(x1_e2, y_e2), regx1_e2.coef_"
   ]
  },
  {
   "cell_type": "code",
   "execution_count": 174,
   "metadata": {},
   "outputs": [
    {
     "data": {
      "text/plain": [
       "(0.9994230162231139, array([[0.99942311]]))"
      ]
     },
     "execution_count": 174,
     "metadata": {},
     "output_type": "execute_result"
    }
   ],
   "source": [
    "regx2_e2 = LinearRegression().fit(x2_e2, y_e2)\n",
    "regx2_e2.score(x2_e2, y_e2), regx2_e2.coef_"
   ]
  },
  {
   "cell_type": "code",
   "execution_count": 176,
   "metadata": {},
   "outputs": [
    {
     "data": {
      "text/plain": [
       "(0.9994269545122234, array([[0.00742462, 0.99257212]]))"
      ]
     },
     "execution_count": 176,
     "metadata": {},
     "output_type": "execute_result"
    }
   ],
   "source": [
    "x1x2_e2 = np.concatenate((x1_e2,x2_e2), axis=1)\n",
    "regx1x2_e2 = LinearRegression().fit(x1x2_e2, y_e2)\n",
    "regx1x2_e2.score(x1x2_e2, y_e2), regx1x2_e2.coef_"
   ]
  },
  {
   "cell_type": "markdown",
   "metadata": {},
   "source": [
    "## This is the key line: \n",
    "### the regression coefficient for x1 remains more stable than for x2\n",
    "\n",
    "Perhaps we need statistical significance test of some sort to verify this, but essentially, does this show that you can indeed expect to see such stability even if you don't know the data generation process, simply by inspecting your results from fitting linear regression? (this is of course a toy example)"
   ]
  },
  {
   "cell_type": "code",
   "execution_count": 177,
   "metadata": {},
   "outputs": [
    {
     "data": {
      "text/plain": [
       "(array([[0.00024773]]), array([[0.00852181]]))"
      ]
     },
     "execution_count": 177,
     "metadata": {},
     "output_type": "execute_result"
    }
   ],
   "source": [
    "abs(regx1_e1.coef_ - regx1_e2.coef_), abs(regx2_e1.coef_ - regx2_e2.coef_) "
   ]
  }
 ],
 "metadata": {
  "kernelspec": {
   "display_name": "Python 3",
   "language": "python",
   "name": "python3"
  },
  "language_info": {
   "codemirror_mode": {
    "name": "ipython",
    "version": 3
   },
   "file_extension": ".py",
   "mimetype": "text/x-python",
   "name": "python",
   "nbconvert_exporter": "python",
   "pygments_lexer": "ipython3",
   "version": "3.7.7"
  }
 },
 "nbformat": 4,
 "nbformat_minor": 4
}
